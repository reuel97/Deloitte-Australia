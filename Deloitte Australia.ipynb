{
 "cells": [
  {
   "cell_type": "code",
   "execution_count": 2,
   "id": "f87bc8e6",
   "metadata": {},
   "outputs": [
    {
     "data": {
      "text/plain": [
       "'Task_5_Equality_Table_Updated.xlsx'"
      ]
     },
     "execution_count": 2,
     "metadata": {},
     "output_type": "execute_result"
    }
   ],
   "source": [
    "import pandas as pd\n",
    "\n",
    "# Load the Excel file\n",
    "file_path = \"Task 5 Equality Table.xlsx\"\n",
    "df = pd.read_excel(file_path)\n",
    "\n",
    "# Define function to classify equality scores\n",
    "def classify_equality(score):\n",
    "    if -10 <= score <= 10:\n",
    "        return \"Fair\"\n",
    "    elif -20 <= score < -10 or 10 < score <= 20:\n",
    "        return \"Unfair\"\n",
    "    else:\n",
    "        return \"Highly Discriminative\"\n",
    "\n",
    "# Apply classification to create the new column\n",
    "df[\"Equality Class\"] = df[\"Equality Score\"].apply(classify_equality)\n",
    "\n",
    "# Save the updated file\n",
    "updated_file_path = \"Task_5_Equality_Table_Updated.xlsx\"\n",
    "df.to_excel(updated_file_path, index=False)\n",
    "updated_file_path"
   ]
  }
 ],
 "metadata": {
  "kernelspec": {
   "display_name": "Python 3 (ipykernel)",
   "language": "python",
   "name": "python3"
  },
  "language_info": {
   "codemirror_mode": {
    "name": "ipython",
    "version": 3
   },
   "file_extension": ".py",
   "mimetype": "text/x-python",
   "name": "python",
   "nbconvert_exporter": "python",
   "pygments_lexer": "ipython3",
   "version": "3.10.9"
  }
 },
 "nbformat": 4,
 "nbformat_minor": 5
}
